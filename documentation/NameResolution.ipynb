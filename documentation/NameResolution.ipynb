{
 "cells": [
  {
   "cell_type": "markdown",
   "metadata": {},
   "source": [
    "# Name Resolution\n",
    "\n",
    "Translator tools use strong identifiers for concepts, such as compact URIs (curies) from an ontology.  The [NameResolution sevice](https://nameresolution-sri.renci.org) allows lookup of these curies based on a lexical name.  The identifiers retrieved may then be used as input to various Translator tools."
   ]
  },
  {
   "cell_type": "markdown",
   "metadata": {},
   "source": [
    "## Basic Use\n",
    "\n",
    "Suppose that a user has the text string \"diabetes\" and we want to turn it into an identifier.  There are many concepts that might be appropriate.  Perhaps they are looking for the identifier for the disease \"Diabetes Mellitus\".  Or perhaps they are looking for a subtype such as \"Type 2 Diabetes Mellitus\".  Or perhaps they are looking for \"diabetes drugs\".  This service searches the lexical synonyms of concepts and returns those identifiers as well as the full set of synonyms for each of the returned identifiers."
   ]
  },
  {
   "cell_type": "code",
   "execution_count": 1,
   "metadata": {},
   "outputs": [],
   "source": [
    "import requests\n",
    "import json\n",
    "nr_url = 'http://robokop.renci.org:2434/lookup'"
   ]
  },
  {
   "cell_type": "code",
   "execution_count": 2,
   "metadata": {},
   "outputs": [
    {
     "name": "stdout",
     "output_type": "stream",
     "text": [
      "{\n",
      " \"MONDO:0005015\": [\n",
      "  \"diabetes\",\n",
      "  \"diabetes mellitus\",\n",
      "  \"DM\"\n",
      " ],\n",
      " \"MONDO:0006920\": [\n",
      "  \"prediabetes\",\n",
      "  \"borderline diabetes\",\n",
      "  \"prediabetic state\"\n",
      " ],\n",
      " \"MONDO:0009297\": [\n",
      "  \"renal diabetes\",\n",
      "  \"GLYS\",\n",
      "  \"Glys1\",\n",
      "  \"SGLT2 deficiency\",\n",
      "  \"renal glucosuria\",\n",
      "  \"renal glycosuria\",\n",
      "  \"glycosuria, renal\",\n",
      "  \"renal glucosuria; GLYS\",\n",
      "  \"familial renal glucosuria\"\n",
      " ],\n",
      " \"MONDO:0005147\": [\n",
      "  \"Type 1 diabetes\",\n",
      "  \"Type I diabetes\",\n",
      "  \"type 1 diabetes\",\n",
      "  \"type I diabetes\",\n",
      "  \"juvenile diabetes\",\n",
      "  \"Diabetes mellitus Type I\",\n",
      "  \"diabetes mellitis type 1\",\n",
      "  \"diabetes mellitis type I\",\n",
      "  \"immune mediated diabetes\",\n",
      "  \"type I diabetes mellitus\",\n",
      "  \"Juvenile diabetes mellitus\",\n",
      "  \"insulin dependent diabetes\",\n",
      "  \"Insulin-dependent diabetes mellitus\",\n",
      "  \"insulin dependent diabetes mellitus\",\n",
      "  \"insulin-dependent diabetes mellitus\",\n",
      "  \"IDDM\"\n",
      " ],\n",
      " \"MONDO:0005148\": [\n",
      "  \"Type 2 diabetes\",\n",
      "  \"type 2 diabetes\",\n",
      "  \"Type II diabetes\",\n",
      "  \"diabetes, type 2\",\n",
      "  \"type II diabetes\",\n",
      "  \"adult onset diabetes\",\n",
      "  \"adult-onset diabetes\",\n",
      "  \"NIDDM diabetes mellitus\",\n",
      "  \"Diabetes mellitus type 2\",\n",
      "  \"diabetes mellitis type 2\",\n",
      "  \"type 2 diabetes mellitus\",\n",
      "  \"Diabetes mellitus Type II\",\n",
      "  \"diabetes mellitis type II\",\n",
      "  \"type II diabetes mellitus\",\n",
      "  \"Noninsulin-dependent diabetes\",\n",
      "  \"noninsulin dependent diabetes\",\n",
      "  \"Non-insulin dependent diabetes\",\n",
      "  \"non-insulin dependent diabetes\",\n",
      "  \"T2DM - type 2 diabetes mellitus\",\n",
      "  \"Noninsulin dependent diabetes mellitus\",\n",
      "  \"Noninsulin-dependent diabetes mellitus\",\n",
      "  \"Diabetes mellitus, noninsulin-dependent\",\n",
      "  \"non-insulin dependent diabetes mellitus\",\n",
      "  \"non-insulin-dependent diabetes mellitus\",\n",
      "  \"type 2 diabetes mellitus non-insulin dependent\",\n",
      "  \"NIDDM\",\n",
      "  \"NIDDM\"\n",
      " ],\n",
      " \"MONDO:0006507\": [\n",
      "  \"diabetes bronze\",\n",
      "  \"hemochromatosis\",\n",
      "  \"haemochromatosis\",\n",
      "  \"iron storage disorder\",\n",
      "  \"hemochromatosis, hereditary\"\n",
      " ],\n",
      " \"CHEBI:76916\": [\n",
      "  \"diabetes inducer\",\n",
      "  \"hyperglycemic agents\"\n",
      " ],\n",
      " \"MONDO:0005406\": [\n",
      "  \"Maternal diabetes\",\n",
      "  \"gestational diabetes\",\n",
      "  \"diabetes in pregnancy\",\n",
      "  \"gestational diabetes mellitus\",\n",
      "  \"maternal gestational diabetes mellitus\",\n",
      "  \"GDM\",\n",
      "  \"maternal hyperglycemia\"\n",
      " ],\n",
      " \"MONDO:0007669\": [\n",
      "  \"CAKUT with diabetes\",\n",
      "  \"renal cysts and diabetes syndrome\",\n",
      "  \"renal cysts and diabetes syndrome; RCAD\",\n",
      "  \"maturity-onset diabetes of the young type 5\",\n",
      "  \"maturity onset diabetes of the Young, type 5\",\n",
      "  \"maturity-onset diabetes of the Young, type 5\",\n",
      "  \"HNF1B-related renal cysts and diabetes syndrome\",\n",
      "  \"renal dysfunction-early-onset diabetes syndrome\",\n",
      "  \"renal cysts-maturity-onset diabetes of the young syndrome\",\n",
      "  \"hepatocyte nuclear Factor 1-beta-associated monogenic diabetes\",\n",
      "  \"congenital anomalies of the kidney and urinary tract with diabetes\",\n",
      "  \"RCAD\",\n",
      "  \"MODY5\",\n",
      "  \"HNF1B-MODY\",\n",
      "  \"MODY type 5\",\n",
      "  \"atypical FJHN\",\n",
      "  \"RCAD syndrome\",\n",
      "  \"FJHN atypical\",\n",
      "  \"FJHN, atypical\",\n",
      "  \"familial hypoplastic glomerulocystic kidney\",\n",
      "  \"glomerulocystic kidney, familial hypoplastic\",\n",
      "  \"hypoplastic type glomerulocystic kidney disease\",\n",
      "  \"glomerulocystic kidney disease, hypoplastic type\",\n",
      "  \"atypical familial juvenile hyperuricemic nephropathy\",\n",
      "  \"hyperuricemic nephropathy, familial juvenile, atypical\"\n",
      " ],\n",
      " \"MONDO:0018911\": [\n",
      "  \"Mason-type diabetes\",\n",
      "  \"Mason type diabetes\",\n",
      "  \"Maturity onset diabetes of the young\",\n",
      "  \"maturity onset diabetes of the young\",\n",
      "  \"maturity-onset diabetes of the young\",\n",
      "  \"maturity-onset diabetes of the young; MODY\",\n",
      "  \"MODY\",\n",
      "  \"MODY\"\n",
      " ]\n",
      "}\n"
     ]
    }
   ],
   "source": [
    "params = {'string':'diabetes'}\n",
    "response = requests.post(nr_url,params=params)\n",
    "print(json.dumps(response.json(),indent=1))"
   ]
  },
  {
   "cell_type": "markdown",
   "metadata": {},
   "source": [
    "Note that the string matches include partial matches.  For instance CHEBI:76916 does not have a synonym of \"diabetes\", \"diabetes\" is a substring of one of its synonyms.  \n",
    "\n",
    "Note also that we returned 10 results.  The `limit` parameter, which defaults to 10, sets the maximum number of results that come back.  Setting `limit` to -1 brings back all results."
   ]
  },
  {
   "cell_type": "code",
   "execution_count": 3,
   "metadata": {},
   "outputs": [
    {
     "name": "stdout",
     "output_type": "stream",
     "text": [
      "{\n",
      " \"MONDO:0005015\": [\n",
      "  \"diabetes\",\n",
      "  \"diabetes mellitus\",\n",
      "  \"DM\"\n",
      " ]\n",
      "}\n"
     ]
    }
   ],
   "source": [
    "params = {'string':'diabetes','limit':1}\n",
    "response = requests.post(nr_url,params=params)\n",
    "print(json.dumps(response.json(),indent=1))"
   ]
  },
  {
   "cell_type": "code",
   "execution_count": 4,
   "metadata": {},
   "outputs": [
    {
     "name": "stdout",
     "output_type": "stream",
     "text": [
      "129\n"
     ]
    }
   ],
   "source": [
    "params = {'string':'diabetes','limit':-1}\n",
    "response = requests.post(nr_url,params=params)\n",
    "print(len(response.json()))"
   ]
  },
  {
   "cell_type": "markdown",
   "metadata": {},
   "source": [
    "Results can be batched using the `offset` parameter.  Here we'll get the first two results by setting `limit=2` and then show that we can get only the second result by setting `limit=1` and `offset=1`"
   ]
  },
  {
   "cell_type": "code",
   "execution_count": 5,
   "metadata": {},
   "outputs": [
    {
     "name": "stdout",
     "output_type": "stream",
     "text": [
      "These are the first two results\n",
      "{\n",
      " \"MONDO:0005015\": [\n",
      "  \"diabetes\",\n",
      "  \"diabetes mellitus\",\n",
      "  \"DM\"\n",
      " ],\n",
      " \"MONDO:0006920\": [\n",
      "  \"prediabetes\",\n",
      "  \"borderline diabetes\",\n",
      "  \"prediabetic state\"\n",
      " ]\n",
      "}\n"
     ]
    }
   ],
   "source": [
    "params = {'string':'diabetes','limit':2}\n",
    "response = requests.post(nr_url,params=params)\n",
    "print(\"These are the first two results\")\n",
    "print(json.dumps(response.json(),indent=1))\n",
    "\n",
    "params = {'string':'diabetes'}"
   ]
  },
  {
   "cell_type": "code",
   "execution_count": null,
   "metadata": {},
   "outputs": [],
   "source": []
  }
 ],
 "metadata": {
  "kernelspec": {
   "display_name": "Python 3",
   "language": "python",
   "name": "python3"
  },
  "language_info": {
   "codemirror_mode": {
    "name": "ipython",
    "version": 3
   },
   "file_extension": ".py",
   "mimetype": "text/x-python",
   "name": "python",
   "nbconvert_exporter": "python",
   "pygments_lexer": "ipython3",
   "version": "3.7.5"
  }
 },
 "nbformat": 4,
 "nbformat_minor": 4
}
