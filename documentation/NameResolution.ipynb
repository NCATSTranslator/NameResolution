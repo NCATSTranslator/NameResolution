{
 "cells": [
  {
   "cell_type": "markdown",
   "metadata": {},
   "source": [
    "# Name Resolution\n",
    "\n",
    "Translator tools use strong identifiers for concepts, such as compact URIs (curies) from an ontology.  The [NameResolution sevice](https://nameresolution-sri.renci.org) allows lookup of these curies based on a lexical name.  The identifiers retrieved may then be used as input to various Translator tools."
   ]
  },
  {
   "cell_type": "markdown",
   "metadata": {},
   "source": [
    "## Basic Use\n",
    "\n",
    "Suppose that a user has the text string \"diabetes\" and we want to turn it into an identifier.  There are many concepts that might be appropriate.  Perhaps they are looking for the identifier for the disease \"Diabetes Mellitus\".  Or perhaps they are looking for a subtype such as \"Type 2 Diabetes Mellitus\".  Or perhaps they are looking for \"diabetes drugs\".  This service searches the lexical synonyms of concepts and returns those identifiers as well as the full set of synonyms for each of the returned identifiers."
   ]
  },
  {
   "cell_type": "code",
   "execution_count": 6,
   "metadata": {},
   "outputs": [],
   "source": [
    "import requests\n",
    "import json\n",
    "nr_url = 'https://name-resolution-sri.renci.org/lookup'"
   ]
  },
  {
   "cell_type": "code",
   "execution_count": 8,
   "metadata": {},
   "outputs": [
    {
     "name": "stdout",
     "output_type": "stream",
     "text": [
      "{\n",
      " \"MONDO:0005147\": [\n",
      "  \"Type 1 diabetes\",\n",
      "  \"type 1 diabetes\",\n",
      "  \"diabetes mellitis type 1\",\n",
      "  \"IDDM\",\n",
      "  \"Type I diabetes\",\n",
      "  \"type I diabetes\",\n",
      "  \"juvenile diabetes\",\n",
      "  \"Diabetes mellitus Type I\",\n",
      "  \"diabetes mellitis type I\",\n",
      "  \"immune mediated diabetes\",\n",
      "  \"type I diabetes mellitus\",\n",
      "  \"Juvenile diabetes mellitus\",\n",
      "  \"insulin dependent diabetes\",\n",
      "  \"Insulin-dependent diabetes mellitus\",\n",
      "  \"insulin dependent diabetes mellitus\",\n",
      "  \"insulin-dependent diabetes mellitus\"\n",
      " ],\n",
      " \"MONDO:0009100\": [\n",
      "  \"diabetes mellitus, type 1\",\n",
      "  \"IDDM\",\n",
      "  \"IDDM1\",\n",
      "  \"juvenile-onset diabetes\",\n",
      "  \"diabetes mellitus, insulin-dependent\",\n",
      "  \"insulin-dependent diabetes mellitus 1\",\n",
      "  \"diabetes mellitus, insulin-dependent, 1\",\n",
      "  \"diabetes mellitus, insulin-dependent; IDDM\"\n",
      " ],\n",
      " \"MONDO:0007454\": [\n",
      "  \"INS type 1 diabetes mellitus\",\n",
      "  \"type 1 diabetes mellitus caused by mutation in INS\",\n",
      "  \"IDDM2\",\n",
      "  \"insulin-dependent diabetes mellitus 2\",\n",
      "  \"diabetes mellitus, insulin-dependent, 2\",\n",
      "  \"diabetes mellitus, insulin-dependent, type 2\"\n",
      " ],\n",
      " \"MONDO:0007452\": [\n",
      "  \"diabetes mellitus MODY type 1\",\n",
      "  \"type 1 maturity-onset diabetes of the young\",\n",
      "  \"maturity onset diabetes of the Young, type 1\",\n",
      "  \"maturity-onset diabetes of the young, type 1\",\n",
      "  \"maturity-onset diabetes of the young, type 1; MODY1\",\n",
      "  \"MODY1\",\n",
      "  \"MODY type 1\",\n",
      "  \"MODY, type 1\",\n",
      "  \"MODY HNF4A related\",\n",
      "  \"diabetes mellitus type 2\",\n",
      "  \"mild juvenile diabetes mellitus\",\n",
      "  \"HNF4A-associated monogenic diabetes\",\n",
      "  \"hepatocyte nuclear Factor 4-Alpha associated monogenic diabetes\"\n",
      " ],\n",
      " \"MONDO:0012921\": [\n",
      "  \"CCR5 type 1 diabetes mellitus\",\n",
      "  \"type 1 diabetes mellitus caused by mutation in CCR5\",\n",
      "  \"IDDM22\",\n",
      "  \"insulin-dependent diabetes mellitus 22\",\n",
      "  \"diabetes mellitus, insulin-dependent, 22\",\n",
      "  \"diabetes mellitus, insulin-dependent, type 22\",\n",
      "  \"diabetes mellitus, insulin-dependent, 22; IDDM22\"\n",
      " ],\n",
      " \"MONDO:0010863\": [\n",
      "  \"SUMO4 type 1 diabetes mellitus\",\n",
      "  \"type 1 diabetes mellitus caused by mutation in SUMO4\",\n",
      "  \"IDDM5\",\n",
      "  \"insulin-dependent diabetes mellitus 5\",\n",
      "  \"diabetes mellitus, insulin-dependent, 5\",\n",
      "  \"diabetes mellitus, insulin-dependent, type 5\",\n",
      "  \"diabetes mellitus, insulin-dependent, 5; IDDM5\"\n",
      " ],\n",
      " \"MONDO:0011068\": [\n",
      "  \"CTLA4 type 1 diabetes mellitus\",\n",
      "  \"diabetes mellitus, insulin-dependent, type 12\",\n",
      "  \"type 1 diabetes mellitus caused by mutation in CTLA4\",\n",
      "  \"IDDM12\",\n",
      "  \"insulin-dependent diabetes mellitus 12\",\n",
      "  \"diabetes mellitus, insulin-dependent, 12\",\n",
      "  \"diabetes mellitus, insulin-dependent, 12; IDDM12\"\n",
      " ],\n",
      " \"MONDO:0011168\": [\n",
      "  \"IL2RA type 1 diabetes mellitus\",\n",
      "  \"diabetes mellitus, insulin-dependent, type 10\",\n",
      "  \"type 1 diabetes mellitus caused by mutation in IL2RA\",\n",
      "  \"IDDM10\",\n",
      "  \"insulin-dependent diabetes mellitus 10\",\n",
      "  \"diabetes mellitus, insulin-dependent, 10\",\n",
      "  \"diabetes mellitus, insulin-dependent, 10; IDDM10\"\n",
      " ],\n",
      " \"MONDO:0012919\": [\n",
      "  \"HNF1A type 1 diabetes mellitus\",\n",
      "  \"type 1 diabetes mellitus caused by mutation in HNF1A\",\n",
      "  \"IDDM20\",\n",
      "  \"insulin-dependent diabetes mellitus 20\",\n",
      "  \"diabetes mellitus, insulin-dependent, 20\",\n",
      "  \"diabetes mellitus, insulin-dependent, type 20\",\n",
      "  \"diabetes mellitus, insulin-dependent, 20; IDDM20\"\n",
      " ],\n",
      " \"MONDO:0014488\": [\n",
      "  \"TBC1D4 type 2 diabetes mellitus\",\n",
      "  \"type 2 diabetes mellitus caused by mutation in TBC1D4\",\n",
      "  \"NIDDM5\",\n",
      "  \"diabetes mellitus, noninsulin-dependent, 5\",\n",
      "  \"diabetes mellitus, noninsulin-dependent, type 5\",\n",
      "  \"diabetes mellitus, noninsulin-dependent, 5; NIDDM5\"\n",
      " ]\n",
      "}\n"
     ]
    }
   ],
   "source": [
    "params = {'string':'type 1 diabetes'}\n",
    "response = requests.post(nr_url,params=params)\n",
    "print(json.dumps(response.json(),indent=1))"
   ]
  },
  {
   "cell_type": "markdown",
   "metadata": {},
   "source": [
    "Note that the string matches include partial matches.  For instance CHEBI:76916 does not have a synonym of \"diabetes\", \"diabetes\" is a substring of one of its synonyms.  \n",
    "\n",
    "Note also that we returned 10 results.  The `limit` parameter, which defaults to 10, sets the maximum number of results that come back.  Setting `limit` to -1 brings back all results."
   ]
  },
  {
   "cell_type": "code",
   "execution_count": 9,
   "metadata": {},
   "outputs": [
    {
     "name": "stdout",
     "output_type": "stream",
     "text": [
      "{\n",
      " \"MONDO:0005015\": [\n",
      "  \"diabetes\",\n",
      "  \"diabetes mellitus\",\n",
      "  \"DM\"\n",
      " ]\n",
      "}\n"
     ]
    }
   ],
   "source": [
    "params = {'string':'diabetes','limit':1}\n",
    "response = requests.post(nr_url,params=params)\n",
    "print(json.dumps(response.json(),indent=1))"
   ]
  },
  {
   "cell_type": "code",
   "execution_count": 10,
   "metadata": {},
   "outputs": [
    {
     "name": "stdout",
     "output_type": "stream",
     "text": [
      "129\n"
     ]
    }
   ],
   "source": [
    "params = {'string':'diabetes','limit':-1}\n",
    "response = requests.post(nr_url,params=params)\n",
    "print(len(response.json()))"
   ]
  },
  {
   "cell_type": "markdown",
   "metadata": {},
   "source": [
    "Results can be batched using the `offset` parameter.  Here we'll get the first two results by setting `limit=2` and then show that we can get only the second result by setting `limit=1` and `offset=1`"
   ]
  },
  {
   "cell_type": "code",
   "execution_count": 11,
   "metadata": {
    "scrolled": true
   },
   "outputs": [
    {
     "name": "stdout",
     "output_type": "stream",
     "text": [
      "These are the first two results:\n",
      "{\n",
      " \"MONDO:0005015\": [\n",
      "  \"diabetes\",\n",
      "  \"diabetes mellitus\",\n",
      "  \"DM\"\n",
      " ],\n",
      " \"MONDO:0006920\": [\n",
      "  \"prediabetes\",\n",
      "  \"borderline diabetes\",\n",
      "  \"prediabetic state\"\n",
      " ]\n",
      "}\n",
      "\n",
      "And this is just the second result:\n",
      "{\n",
      " \"MONDO:0006920\": [\n",
      "  \"prediabetes\",\n",
      "  \"borderline diabetes\",\n",
      "  \"prediabetic state\"\n",
      " ]\n",
      "}\n"
     ]
    }
   ],
   "source": [
    "print(\"These are the first two results:\")\n",
    "params = {'string':'diabetes','limit':2}\n",
    "response = requests.post(nr_url,params=params)\n",
    "print(json.dumps(response.json(),indent=1))\n",
    "\n",
    "print('\\nAnd this is just the second result:')\n",
    "params = {'string':'diabetes','limit':1, 'offset':1}\n",
    "response = requests.post(nr_url,params=params)\n",
    "print(json.dumps(response.json(),indent=1))"
   ]
  },
  {
   "cell_type": "code",
   "execution_count": null,
   "metadata": {},
   "outputs": [],
   "source": []
  }
 ],
 "metadata": {
  "kernelspec": {
   "display_name": "Python 3",
   "language": "python",
   "name": "python3"
  },
  "language_info": {
   "codemirror_mode": {
    "name": "ipython",
    "version": 3
   },
   "file_extension": ".py",
   "mimetype": "text/x-python",
   "name": "python",
   "nbconvert_exporter": "python",
   "pygments_lexer": "ipython3",
   "version": "3.9.1"
  }
 },
 "nbformat": 4,
 "nbformat_minor": 4
}
