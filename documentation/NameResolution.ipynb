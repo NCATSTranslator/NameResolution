{
 "cells": [
  {
   "cell_type": "markdown",
   "metadata": {},
   "source": [
    "# Name Resolution\n",
    "\n",
    "Translator tools use strong identifiers for concepts, such as compact URIs (curies) from an ontology.  The [NameResolution sevice](https://nameresolution-sri.renci.org) allows lookup of these curies based on a lexical name.  The identifiers retrieved may then be used as input to various Translator tools."
   ]
  },
  {
   "cell_type": "markdown",
   "metadata": {},
   "source": [
    "## Basic Use\n",
    "\n",
    "Suppose that a user has the text string \"diabetes\" and we want to turn it into an identifier.  There are many concepts that might be appropriate.  Perhaps they are looking for the identifier for the disease \"Diabetes Mellitus\".  Or perhaps they are looking for a subtype such as \"Type 2 Diabetes Mellitus\".  Or perhaps they are looking for \"diabetes drugs\".  This service searches the lexical synonyms of concepts and returns those identifiers as well as the full set of synonyms for each of the returned identifiers."
   ]
  },
  {
   "cell_type": "code",
   "execution_count": 1,
   "metadata": {},
   "outputs": [],
   "source": [
    "import requests\n",
    "import json\n",
    "nr_url = 'http://robokop.renci.org:2434/lookup'"
   ]
  },
  {
   "cell_type": "code",
   "execution_count": 2,
   "metadata": {},
   "outputs": [
    {
     "name": "stdout",
     "output_type": "stream",
     "text": [
      "{\n",
      " \"MONDO:0005148\": [\n",
      "  \"Type 2 diabetes\",\n",
      "  \"type 2 diabetes\",\n",
      "  \"diabetes, type 2\",\n",
      "  \"Diabetes mellitus type 2\",\n",
      "  \"diabetes mellitis type 2\",\n",
      "  \"type 2 diabetes mellitus\",\n",
      "  \"T2DM - type 2 diabetes mellitus\",\n",
      "  \"type 2 diabetes mellitus non-insulin dependent\",\n",
      "  \"NIDDM\",\n",
      "  \"NIDDM\",\n",
      "  \"Type II diabetes\",\n",
      "  \"type II diabetes\",\n",
      "  \"adult onset diabetes\",\n",
      "  \"adult-onset diabetes\",\n",
      "  \"NIDDM diabetes mellitus\",\n",
      "  \"Diabetes mellitus Type II\",\n",
      "  \"diabetes mellitis type II\",\n",
      "  \"type II diabetes mellitus\",\n",
      "  \"Noninsulin-dependent diabetes\",\n",
      "  \"noninsulin dependent diabetes\",\n",
      "  \"Non-insulin dependent diabetes\",\n",
      "  \"non-insulin dependent diabetes\",\n",
      "  \"Noninsulin dependent diabetes mellitus\",\n",
      "  \"Noninsulin-dependent diabetes mellitus\",\n",
      "  \"Diabetes mellitus, noninsulin-dependent\",\n",
      "  \"non-insulin dependent diabetes mellitus\",\n",
      "  \"non-insulin-dependent diabetes mellitus\"\n",
      " ],\n",
      " \"MONDO:0007452\": [\n",
      "  \"diabetes mellitus type 2\",\n",
      "  \"MODY1\",\n",
      "  \"MODY type 1\",\n",
      "  \"MODY, type 1\",\n",
      "  \"MODY HNF4A related\",\n",
      "  \"diabetes mellitus MODY type 1\",\n",
      "  \"mild juvenile diabetes mellitus\",\n",
      "  \"HNF4A-associated monogenic diabetes\",\n",
      "  \"type 1 maturity-onset diabetes of the young\",\n",
      "  \"maturity onset diabetes of the Young, type 1\",\n",
      "  \"maturity-onset diabetes of the young, type 1\",\n",
      "  \"maturity-onset diabetes of the young, type 1; MODY1\",\n",
      "  \"hepatocyte nuclear Factor 4-Alpha associated monogenic diabetes\"\n",
      " ],\n",
      " \"MONDO:0007455\": [\n",
      "  \"diabetes mellitus, type 2\",\n",
      "  \"diabetes mellitus, type 2, protection against\",\n",
      "  \"NIDDM\",\n",
      "  \"maturity-onset diabetes\",\n",
      "  \"insulin resistance, susceptibility to\",\n",
      "  \"noninsulin-dependent diabetes mellitus\",\n",
      "  \"diabetes mellitus, noninsulin-dependent\",\n",
      "  \"diabetes mellitus, noninsulin-dependent; NIDDM\"\n",
      " ],\n",
      " \"MONDO:0007453\": [\n",
      "  \"diabetes mellitus MODY type 2\",\n",
      "  \"MODY 2 monogenic diabetes type 2\",\n",
      "  \"type 2 maturity-onset diabetes of the young\",\n",
      "  \"maturity onset diabetes of the Young, type 2\",\n",
      "  \"maturity-onset diabetes of the young, type 2\",\n",
      "  \"maturity-onset diabetes of the young, type 2; MODY2\",\n",
      "  \"MODY2\",\n",
      "  \"MODY type 2\",\n",
      "  \"MODY, type 2\",\n",
      "  \"MODY glucokinase-related\",\n",
      "  \"MODY, glucokinase-related\",\n",
      "  \"GCK-associated diabetes mellitus\",\n",
      "  \"glucokinase-associated diabetes mellitus\",\n",
      "  \"GCK maturity-onset diabetes of the young (disease)\",\n",
      "  \"maturity-onset diabetes of the young (disease) caused by mutation in GCK\"\n",
      " ],\n",
      " \"MONDO:0011168\": [\n",
      "  \"IL2RA type 1 diabetes mellitus\",\n",
      "  \"type 1 diabetes mellitus caused by mutation in IL2RA\",\n",
      "  \"IDDM10\",\n",
      "  \"insulin-dependent diabetes mellitus 10\",\n",
      "  \"diabetes mellitus, insulin-dependent, 10\",\n",
      "  \"diabetes mellitus, insulin-dependent, type 10\",\n",
      "  \"diabetes mellitus, insulin-dependent, 10; IDDM10\"\n",
      " ],\n",
      " \"MONDO:0014488\": [\n",
      "  \"TBC1D4 type 2 diabetes mellitus\",\n",
      "  \"type 2 diabetes mellitus caused by mutation in TBC1D4\",\n",
      "  \"NIDDM5\",\n",
      "  \"diabetes mellitus, noninsulin-dependent, 5\",\n",
      "  \"diabetes mellitus, noninsulin-dependent, type 5\",\n",
      "  \"diabetes mellitus, noninsulin-dependent, 5; NIDDM5\"\n",
      " ],\n",
      " \"MONDO:0007451\": [\n",
      "  \"diabetes insipidus, nephrogenic, type 2\",\n",
      "  \"diabetes insipidus, nephrogenic, autosomal\"\n",
      " ],\n",
      " \"MONDO:0007454\": [\n",
      "  \"diabetes mellitus, insulin-dependent, type 2\",\n",
      "  \"IDDM2\",\n",
      "  \"INS type 1 diabetes mellitus\",\n",
      "  \"insulin-dependent diabetes mellitus 2\",\n",
      "  \"diabetes mellitus, insulin-dependent, 2\",\n",
      "  \"type 1 diabetes mellitus caused by mutation in INS\"\n",
      " ],\n",
      " \"MONDO:0011068\": [\n",
      "  \"diabetes mellitus, insulin-dependent, type 12\",\n",
      "  \"IDDM12\",\n",
      "  \"CTLA4 type 1 diabetes mellitus\",\n",
      "  \"insulin-dependent diabetes mellitus 12\",\n",
      "  \"diabetes mellitus, insulin-dependent, 12\",\n",
      "  \"diabetes mellitus, insulin-dependent, 12; IDDM12\",\n",
      "  \"type 1 diabetes mellitus caused by mutation in CTLA4\"\n",
      " ],\n",
      " \"MONDO:0012480\": [\n",
      "  \"diabetes mellitus, transient neonatal, type 2\",\n",
      "  \"Tndm2\",\n",
      "  \"diabetes mellitus, transient neonatal, 2\",\n",
      "  \"ABCC8 transient neonatal diabetes mellitus (disease)\",\n",
      "  \"transient neonatal diabetes mellitus (disease) caused by mutation in ABCC8\"\n",
      " ]\n",
      "}\n"
     ]
    }
   ],
   "source": [
    "params = {'string':'type 2 diabetes'}\n",
    "response = requests.post(nr_url,params=params)\n",
    "print(json.dumps(response.json(),indent=1))"
   ]
  },
  {
   "cell_type": "markdown",
   "metadata": {},
   "source": [
    "Note that the string matches include partial matches.  For instance CHEBI:76916 does not have a synonym of \"diabetes\", \"diabetes\" is a substring of one of its synonyms.  \n",
    "\n",
    "Note also that we returned 10 results.  The `limit` parameter, which defaults to 10, sets the maximum number of results that come back.  Setting `limit` to -1 brings back all results."
   ]
  },
  {
   "cell_type": "code",
   "execution_count": 3,
   "metadata": {},
   "outputs": [
    {
     "name": "stdout",
     "output_type": "stream",
     "text": [
      "{\n",
      " \"MONDO:0005015\": [\n",
      "  \"diabetes\",\n",
      "  \"diabetes mellitus\",\n",
      "  \"DM\"\n",
      " ]\n",
      "}\n"
     ]
    }
   ],
   "source": [
    "params = {'string':'diabetes','limit':1}\n",
    "response = requests.post(nr_url,params=params)\n",
    "print(json.dumps(response.json(),indent=1))"
   ]
  },
  {
   "cell_type": "code",
   "execution_count": 4,
   "metadata": {},
   "outputs": [
    {
     "name": "stdout",
     "output_type": "stream",
     "text": [
      "129\n"
     ]
    }
   ],
   "source": [
    "params = {'string':'diabetes','limit':-1}\n",
    "response = requests.post(nr_url,params=params)\n",
    "print(len(response.json()))"
   ]
  },
  {
   "cell_type": "markdown",
   "metadata": {},
   "source": [
    "Results can be batched using the `offset` parameter.  Here we'll get the first two results by setting `limit=2` and then show that we can get only the second result by setting `limit=1` and `offset=1`"
   ]
  },
  {
   "cell_type": "code",
   "execution_count": 5,
   "metadata": {
    "scrolled": true
   },
   "outputs": [
    {
     "name": "stdout",
     "output_type": "stream",
     "text": [
      "These are the first two results:\n",
      "{\n",
      " \"MONDO:0005015\": [\n",
      "  \"diabetes\",\n",
      "  \"diabetes mellitus\",\n",
      "  \"DM\"\n",
      " ],\n",
      " \"MONDO:0006920\": [\n",
      "  \"prediabetes\",\n",
      "  \"borderline diabetes\",\n",
      "  \"prediabetic state\"\n",
      " ]\n",
      "}\n",
      "\n",
      "And this is just the second result:\n",
      "{\n",
      " \"MONDO:0006920\": [\n",
      "  \"prediabetes\",\n",
      "  \"borderline diabetes\",\n",
      "  \"prediabetic state\"\n",
      " ]\n",
      "}\n"
     ]
    }
   ],
   "source": [
    "print(\"These are the first two results:\")\n",
    "params = {'string':'diabetes','limit':2}\n",
    "response = requests.post(nr_url,params=params)\n",
    "print(json.dumps(response.json(),indent=1))\n",
    "\n",
    "print('\\nAnd this is just the second result:')\n",
    "params = {'string':'diabetes','limit':1, 'offset':1}\n",
    "response = requests.post(nr_url,params=params)\n",
    "print(json.dumps(response.json(),indent=1))"
   ]
  },
  {
   "cell_type": "code",
   "execution_count": null,
   "metadata": {},
   "outputs": [],
   "source": []
  }
 ],
 "metadata": {
  "kernelspec": {
   "display_name": "Python 3",
   "language": "python",
   "name": "python3"
  },
  "language_info": {
   "codemirror_mode": {
    "name": "ipython",
    "version": 3
   },
   "file_extension": ".py",
   "mimetype": "text/x-python",
   "name": "python",
   "nbconvert_exporter": "python",
   "pygments_lexer": "ipython3",
   "version": "3.7.5"
  }
 },
 "nbformat": 4,
 "nbformat_minor": 4
}
